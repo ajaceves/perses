{
 "cells": [
  {
   "cell_type": "markdown",
   "metadata": {},
   "source": [
    "# Nonequilibrium Switching Free Energy Analysis\n",
    "\n",
    "This notebook is useful for examining the results of nonequilibrium switching calculations performed with the Perses tool. It enables examination of work traces as well as trajectories."
   ]
  },
  {
   "cell_type": "markdown",
   "metadata": {},
   "source": [
    "## Import required libraries"
   ]
  },
  {
   "cell_type": "code",
   "execution_count": 1,
   "metadata": {},
   "outputs": [
    {
     "data": {
      "text/html": [
       "\n",
       "    <div class=\"bk-root\">\n",
       "        <a href=\"https://bokeh.pydata.org\" target=\"_blank\" class=\"bk-logo bk-logo-small bk-logo-notebook\"></a>\n",
       "        <span id=\"ba36b6d8-3f8d-4235-b2f5-2ffbe410a502\">Loading BokehJS ...</span>\n",
       "    </div>"
      ]
     },
     "metadata": {},
     "output_type": "display_data"
    },
    {
     "data": {
      "application/javascript": [
       "\n",
       "(function(root) {\n",
       "  function now() {\n",
       "    return new Date();\n",
       "  }\n",
       "\n",
       "  var force = true;\n",
       "\n",
       "  if (typeof (root._bokeh_onload_callbacks) === \"undefined\" || force === true) {\n",
       "    root._bokeh_onload_callbacks = [];\n",
       "    root._bokeh_is_loading = undefined;\n",
       "  }\n",
       "\n",
       "  var JS_MIME_TYPE = 'application/javascript';\n",
       "  var HTML_MIME_TYPE = 'text/html';\n",
       "  var EXEC_MIME_TYPE = 'application/vnd.bokehjs_exec.v0+json';\n",
       "  var CLASS_NAME = 'output_bokeh rendered_html';\n",
       "\n",
       "  /**\n",
       "   * Render data to the DOM node\n",
       "   */\n",
       "  function render(props, node) {\n",
       "    var script = document.createElement(\"script\");\n",
       "    node.appendChild(script);\n",
       "  }\n",
       "\n",
       "  /**\n",
       "   * Handle when an output is cleared or removed\n",
       "   */\n",
       "  function handleClearOutput(event, handle) {\n",
       "    var cell = handle.cell;\n",
       "\n",
       "    var id = cell.output_area._bokeh_element_id;\n",
       "    var server_id = cell.output_area._bokeh_server_id;\n",
       "    // Clean up Bokeh references\n",
       "    if (id !== undefined) {\n",
       "      Bokeh.index[id].model.document.clear();\n",
       "      delete Bokeh.index[id];\n",
       "    }\n",
       "\n",
       "    if (server_id !== undefined) {\n",
       "      // Clean up Bokeh references\n",
       "      var cmd = \"from bokeh.io.state import curstate; print(curstate().uuid_to_server['\" + server_id + \"'].get_sessions()[0].document.roots[0]._id)\";\n",
       "      cell.notebook.kernel.execute(cmd, {\n",
       "        iopub: {\n",
       "          output: function(msg) {\n",
       "            var element_id = msg.content.text.trim();\n",
       "            Bokeh.index[element_id].model.document.clear();\n",
       "            delete Bokeh.index[element_id];\n",
       "          }\n",
       "        }\n",
       "      });\n",
       "      // Destroy server and session\n",
       "      var cmd = \"import bokeh.io.notebook as ion; ion.destroy_server('\" + server_id + \"')\";\n",
       "      cell.notebook.kernel.execute(cmd);\n",
       "    }\n",
       "  }\n",
       "\n",
       "  /**\n",
       "   * Handle when a new output is added\n",
       "   */\n",
       "  function handleAddOutput(event, handle) {\n",
       "    var output_area = handle.output_area;\n",
       "    var output = handle.output;\n",
       "\n",
       "    // limit handleAddOutput to display_data with EXEC_MIME_TYPE content only\n",
       "    if ((output.output_type != \"display_data\") || (!output.data.hasOwnProperty(EXEC_MIME_TYPE))) {\n",
       "      return\n",
       "    }\n",
       "\n",
       "    var toinsert = output_area.element.find(`.${CLASS_NAME.split(' ')[0]}`);\n",
       "\n",
       "    if (output.metadata[EXEC_MIME_TYPE][\"id\"] !== undefined) {\n",
       "      toinsert[0].firstChild.textContent = output.data[JS_MIME_TYPE];\n",
       "      // store reference to embed id on output_area\n",
       "      output_area._bokeh_element_id = output.metadata[EXEC_MIME_TYPE][\"id\"];\n",
       "    }\n",
       "    if (output.metadata[EXEC_MIME_TYPE][\"server_id\"] !== undefined) {\n",
       "      var bk_div = document.createElement(\"div\");\n",
       "      bk_div.innerHTML = output.data[HTML_MIME_TYPE];\n",
       "      var script_attrs = bk_div.children[0].attributes;\n",
       "      for (var i = 0; i < script_attrs.length; i++) {\n",
       "        toinsert[0].firstChild.setAttribute(script_attrs[i].name, script_attrs[i].value);\n",
       "      }\n",
       "      // store reference to server id on output_area\n",
       "      output_area._bokeh_server_id = output.metadata[EXEC_MIME_TYPE][\"server_id\"];\n",
       "    }\n",
       "  }\n",
       "\n",
       "  function register_renderer(events, OutputArea) {\n",
       "\n",
       "    function append_mime(data, metadata, element) {\n",
       "      // create a DOM node to render to\n",
       "      var toinsert = this.create_output_subarea(\n",
       "        metadata,\n",
       "        CLASS_NAME,\n",
       "        EXEC_MIME_TYPE\n",
       "      );\n",
       "      this.keyboard_manager.register_events(toinsert);\n",
       "      // Render to node\n",
       "      var props = {data: data, metadata: metadata[EXEC_MIME_TYPE]};\n",
       "      render(props, toinsert[0]);\n",
       "      element.append(toinsert);\n",
       "      return toinsert\n",
       "    }\n",
       "\n",
       "    /* Handle when an output is cleared or removed */\n",
       "    events.on('clear_output.CodeCell', handleClearOutput);\n",
       "    events.on('delete.Cell', handleClearOutput);\n",
       "\n",
       "    /* Handle when a new output is added */\n",
       "    events.on('output_added.OutputArea', handleAddOutput);\n",
       "\n",
       "    /**\n",
       "     * Register the mime type and append_mime function with output_area\n",
       "     */\n",
       "    OutputArea.prototype.register_mime_type(EXEC_MIME_TYPE, append_mime, {\n",
       "      /* Is output safe? */\n",
       "      safe: true,\n",
       "      /* Index of renderer in `output_area.display_order` */\n",
       "      index: 0\n",
       "    });\n",
       "  }\n",
       "\n",
       "  // register the mime type if in Jupyter Notebook environment and previously unregistered\n",
       "  if (root.Jupyter !== undefined) {\n",
       "    var events = require('base/js/events');\n",
       "    var OutputArea = require('notebook/js/outputarea').OutputArea;\n",
       "\n",
       "    if (OutputArea.prototype.mime_types().indexOf(EXEC_MIME_TYPE) == -1) {\n",
       "      register_renderer(events, OutputArea);\n",
       "    }\n",
       "  }\n",
       "\n",
       "  \n",
       "  if (typeof (root._bokeh_timeout) === \"undefined\" || force === true) {\n",
       "    root._bokeh_timeout = Date.now() + 5000;\n",
       "    root._bokeh_failed_load = false;\n",
       "  }\n",
       "\n",
       "  var NB_LOAD_WARNING = {'data': {'text/html':\n",
       "     \"<div style='background-color: #fdd'>\\n\"+\n",
       "     \"<p>\\n\"+\n",
       "     \"BokehJS does not appear to have successfully loaded. If loading BokehJS from CDN, this \\n\"+\n",
       "     \"may be due to a slow or bad network connection. Possible fixes:\\n\"+\n",
       "     \"</p>\\n\"+\n",
       "     \"<ul>\\n\"+\n",
       "     \"<li>re-rerun `output_notebook()` to attempt to load from CDN again, or</li>\\n\"+\n",
       "     \"<li>use INLINE resources instead, as so:</li>\\n\"+\n",
       "     \"</ul>\\n\"+\n",
       "     \"<code>\\n\"+\n",
       "     \"from bokeh.resources import INLINE\\n\"+\n",
       "     \"output_notebook(resources=INLINE)\\n\"+\n",
       "     \"</code>\\n\"+\n",
       "     \"</div>\"}};\n",
       "\n",
       "  function display_loaded() {\n",
       "    var el = document.getElementById(\"ba36b6d8-3f8d-4235-b2f5-2ffbe410a502\");\n",
       "    if (el != null) {\n",
       "      el.textContent = \"BokehJS is loading...\";\n",
       "    }\n",
       "    if (root.Bokeh !== undefined) {\n",
       "      if (el != null) {\n",
       "        el.textContent = \"BokehJS \" + root.Bokeh.version + \" successfully loaded.\";\n",
       "      }\n",
       "    } else if (Date.now() < root._bokeh_timeout) {\n",
       "      setTimeout(display_loaded, 100)\n",
       "    }\n",
       "  }\n",
       "\n",
       "\n",
       "  function run_callbacks() {\n",
       "    try {\n",
       "      root._bokeh_onload_callbacks.forEach(function(callback) { callback() });\n",
       "    }\n",
       "    finally {\n",
       "      delete root._bokeh_onload_callbacks\n",
       "    }\n",
       "    console.info(\"Bokeh: all callbacks have finished\");\n",
       "  }\n",
       "\n",
       "  function load_libs(js_urls, callback) {\n",
       "    root._bokeh_onload_callbacks.push(callback);\n",
       "    if (root._bokeh_is_loading > 0) {\n",
       "      console.log(\"Bokeh: BokehJS is being loaded, scheduling callback at\", now());\n",
       "      return null;\n",
       "    }\n",
       "    if (js_urls == null || js_urls.length === 0) {\n",
       "      run_callbacks();\n",
       "      return null;\n",
       "    }\n",
       "    console.log(\"Bokeh: BokehJS not loaded, scheduling load and callback at\", now());\n",
       "    root._bokeh_is_loading = js_urls.length;\n",
       "    for (var i = 0; i < js_urls.length; i++) {\n",
       "      var url = js_urls[i];\n",
       "      var s = document.createElement('script');\n",
       "      s.src = url;\n",
       "      s.async = false;\n",
       "      s.onreadystatechange = s.onload = function() {\n",
       "        root._bokeh_is_loading--;\n",
       "        if (root._bokeh_is_loading === 0) {\n",
       "          console.log(\"Bokeh: all BokehJS libraries loaded\");\n",
       "          run_callbacks()\n",
       "        }\n",
       "      };\n",
       "      s.onerror = function() {\n",
       "        console.warn(\"failed to load library \" + url);\n",
       "      };\n",
       "      console.log(\"Bokeh: injecting script tag for BokehJS library: \", url);\n",
       "      document.getElementsByTagName(\"head\")[0].appendChild(s);\n",
       "    }\n",
       "  };var element = document.getElementById(\"ba36b6d8-3f8d-4235-b2f5-2ffbe410a502\");\n",
       "  if (element == null) {\n",
       "    console.log(\"Bokeh: ERROR: autoload.js configured with elementid 'ba36b6d8-3f8d-4235-b2f5-2ffbe410a502' but no matching script tag was found. \")\n",
       "    return false;\n",
       "  }\n",
       "\n",
       "  var js_urls = [\"https://cdn.pydata.org/bokeh/release/bokeh-0.12.10.min.js\", \"https://cdn.pydata.org/bokeh/release/bokeh-widgets-0.12.10.min.js\", \"https://cdn.pydata.org/bokeh/release/bokeh-tables-0.12.10.min.js\", \"https://cdn.pydata.org/bokeh/release/bokeh-gl-0.12.10.min.js\"];\n",
       "\n",
       "  var inline_js = [\n",
       "    function(Bokeh) {\n",
       "      Bokeh.set_log_level(\"info\");\n",
       "    },\n",
       "    \n",
       "    function(Bokeh) {\n",
       "      \n",
       "    },\n",
       "    function(Bokeh) {\n",
       "      console.log(\"Bokeh: injecting CSS: https://cdn.pydata.org/bokeh/release/bokeh-0.12.10.min.css\");\n",
       "      Bokeh.embed.inject_css(\"https://cdn.pydata.org/bokeh/release/bokeh-0.12.10.min.css\");\n",
       "      console.log(\"Bokeh: injecting CSS: https://cdn.pydata.org/bokeh/release/bokeh-widgets-0.12.10.min.css\");\n",
       "      Bokeh.embed.inject_css(\"https://cdn.pydata.org/bokeh/release/bokeh-widgets-0.12.10.min.css\");\n",
       "      console.log(\"Bokeh: injecting CSS: https://cdn.pydata.org/bokeh/release/bokeh-tables-0.12.10.min.css\");\n",
       "      Bokeh.embed.inject_css(\"https://cdn.pydata.org/bokeh/release/bokeh-tables-0.12.10.min.css\");\n",
       "    }\n",
       "  ];\n",
       "\n",
       "  function run_inline_js() {\n",
       "    \n",
       "    if ((root.Bokeh !== undefined) || (force === true)) {\n",
       "      for (var i = 0; i < inline_js.length; i++) {\n",
       "        inline_js[i].call(root, root.Bokeh);\n",
       "      }if (force === true) {\n",
       "        display_loaded();\n",
       "      }} else if (Date.now() < root._bokeh_timeout) {\n",
       "      setTimeout(run_inline_js, 100);\n",
       "    } else if (!root._bokeh_failed_load) {\n",
       "      console.log(\"Bokeh: BokehJS failed to load within specified timeout.\");\n",
       "      root._bokeh_failed_load = true;\n",
       "    } else if (force !== true) {\n",
       "      var cell = $(document.getElementById(\"ba36b6d8-3f8d-4235-b2f5-2ffbe410a502\")).parents('.cell').data().cell;\n",
       "      cell.output_area.append_execute_result(NB_LOAD_WARNING)\n",
       "    }\n",
       "\n",
       "  }\n",
       "\n",
       "  if (root._bokeh_is_loading === 0) {\n",
       "    console.log(\"Bokeh: BokehJS loaded, going straight to plotting\");\n",
       "    run_inline_js();\n",
       "  } else {\n",
       "    load_libs(js_urls, function() {\n",
       "      console.log(\"Bokeh: BokehJS plotting callback run at\", now());\n",
       "      run_inline_js();\n",
       "    });\n",
       "  }\n",
       "}(window));"
      ],
      "application/vnd.bokehjs_load.v0+json": "\n(function(root) {\n  function now() {\n    return new Date();\n  }\n\n  var force = true;\n\n  if (typeof (root._bokeh_onload_callbacks) === \"undefined\" || force === true) {\n    root._bokeh_onload_callbacks = [];\n    root._bokeh_is_loading = undefined;\n  }\n\n  \n\n  \n  if (typeof (root._bokeh_timeout) === \"undefined\" || force === true) {\n    root._bokeh_timeout = Date.now() + 5000;\n    root._bokeh_failed_load = false;\n  }\n\n  var NB_LOAD_WARNING = {'data': {'text/html':\n     \"<div style='background-color: #fdd'>\\n\"+\n     \"<p>\\n\"+\n     \"BokehJS does not appear to have successfully loaded. If loading BokehJS from CDN, this \\n\"+\n     \"may be due to a slow or bad network connection. Possible fixes:\\n\"+\n     \"</p>\\n\"+\n     \"<ul>\\n\"+\n     \"<li>re-rerun `output_notebook()` to attempt to load from CDN again, or</li>\\n\"+\n     \"<li>use INLINE resources instead, as so:</li>\\n\"+\n     \"</ul>\\n\"+\n     \"<code>\\n\"+\n     \"from bokeh.resources import INLINE\\n\"+\n     \"output_notebook(resources=INLINE)\\n\"+\n     \"</code>\\n\"+\n     \"</div>\"}};\n\n  function display_loaded() {\n    var el = document.getElementById(\"ba36b6d8-3f8d-4235-b2f5-2ffbe410a502\");\n    if (el != null) {\n      el.textContent = \"BokehJS is loading...\";\n    }\n    if (root.Bokeh !== undefined) {\n      if (el != null) {\n        el.textContent = \"BokehJS \" + root.Bokeh.version + \" successfully loaded.\";\n      }\n    } else if (Date.now() < root._bokeh_timeout) {\n      setTimeout(display_loaded, 100)\n    }\n  }\n\n\n  function run_callbacks() {\n    try {\n      root._bokeh_onload_callbacks.forEach(function(callback) { callback() });\n    }\n    finally {\n      delete root._bokeh_onload_callbacks\n    }\n    console.info(\"Bokeh: all callbacks have finished\");\n  }\n\n  function load_libs(js_urls, callback) {\n    root._bokeh_onload_callbacks.push(callback);\n    if (root._bokeh_is_loading > 0) {\n      console.log(\"Bokeh: BokehJS is being loaded, scheduling callback at\", now());\n      return null;\n    }\n    if (js_urls == null || js_urls.length === 0) {\n      run_callbacks();\n      return null;\n    }\n    console.log(\"Bokeh: BokehJS not loaded, scheduling load and callback at\", now());\n    root._bokeh_is_loading = js_urls.length;\n    for (var i = 0; i < js_urls.length; i++) {\n      var url = js_urls[i];\n      var s = document.createElement('script');\n      s.src = url;\n      s.async = false;\n      s.onreadystatechange = s.onload = function() {\n        root._bokeh_is_loading--;\n        if (root._bokeh_is_loading === 0) {\n          console.log(\"Bokeh: all BokehJS libraries loaded\");\n          run_callbacks()\n        }\n      };\n      s.onerror = function() {\n        console.warn(\"failed to load library \" + url);\n      };\n      console.log(\"Bokeh: injecting script tag for BokehJS library: \", url);\n      document.getElementsByTagName(\"head\")[0].appendChild(s);\n    }\n  };var element = document.getElementById(\"ba36b6d8-3f8d-4235-b2f5-2ffbe410a502\");\n  if (element == null) {\n    console.log(\"Bokeh: ERROR: autoload.js configured with elementid 'ba36b6d8-3f8d-4235-b2f5-2ffbe410a502' but no matching script tag was found. \")\n    return false;\n  }\n\n  var js_urls = [\"https://cdn.pydata.org/bokeh/release/bokeh-0.12.10.min.js\", \"https://cdn.pydata.org/bokeh/release/bokeh-widgets-0.12.10.min.js\", \"https://cdn.pydata.org/bokeh/release/bokeh-tables-0.12.10.min.js\", \"https://cdn.pydata.org/bokeh/release/bokeh-gl-0.12.10.min.js\"];\n\n  var inline_js = [\n    function(Bokeh) {\n      Bokeh.set_log_level(\"info\");\n    },\n    \n    function(Bokeh) {\n      \n    },\n    function(Bokeh) {\n      console.log(\"Bokeh: injecting CSS: https://cdn.pydata.org/bokeh/release/bokeh-0.12.10.min.css\");\n      Bokeh.embed.inject_css(\"https://cdn.pydata.org/bokeh/release/bokeh-0.12.10.min.css\");\n      console.log(\"Bokeh: injecting CSS: https://cdn.pydata.org/bokeh/release/bokeh-widgets-0.12.10.min.css\");\n      Bokeh.embed.inject_css(\"https://cdn.pydata.org/bokeh/release/bokeh-widgets-0.12.10.min.css\");\n      console.log(\"Bokeh: injecting CSS: https://cdn.pydata.org/bokeh/release/bokeh-tables-0.12.10.min.css\");\n      Bokeh.embed.inject_css(\"https://cdn.pydata.org/bokeh/release/bokeh-tables-0.12.10.min.css\");\n    }\n  ];\n\n  function run_inline_js() {\n    \n    if ((root.Bokeh !== undefined) || (force === true)) {\n      for (var i = 0; i < inline_js.length; i++) {\n        inline_js[i].call(root, root.Bokeh);\n      }if (force === true) {\n        display_loaded();\n      }} else if (Date.now() < root._bokeh_timeout) {\n      setTimeout(run_inline_js, 100);\n    } else if (!root._bokeh_failed_load) {\n      console.log(\"Bokeh: BokehJS failed to load within specified timeout.\");\n      root._bokeh_failed_load = true;\n    } else if (force !== true) {\n      var cell = $(document.getElementById(\"ba36b6d8-3f8d-4235-b2f5-2ffbe410a502\")).parents('.cell').data().cell;\n      cell.output_area.append_execute_result(NB_LOAD_WARNING)\n    }\n\n  }\n\n  if (root._bokeh_is_loading === 0) {\n    console.log(\"Bokeh: BokehJS loaded, going straight to plotting\");\n    run_inline_js();\n  } else {\n    load_libs(js_urls, function() {\n      console.log(\"Bokeh: BokehJS plotting callback run at\", now());\n      run_inline_js();\n    });\n  }\n}(window));"
     },
     "metadata": {},
     "output_type": "display_data"
    }
   ],
   "source": [
    "import numpy as np\n",
    "import nglview\n",
    "from bokeh.plotting import figure, output_notebook, show\n",
    "from bokeh.layouts import row, column\n",
    "import simtk.unit as unit\n",
    "import mdtraj as md\n",
    "import plotting_tools\n",
    "output_notebook()"
   ]
  },
  {
   "cell_type": "markdown",
   "metadata": {},
   "source": [
    "## Set the appropriate variables to the directories where the output files are stored"
   ]
  },
  {
   "cell_type": "code",
   "execution_count": 2,
   "metadata": {
    "collapsed": true
   },
   "outputs": [],
   "source": [
    "trajectory_directory = \"/Users/grinawap/solvent_test_4\"\n",
    "trajectory_prefix = \"cdk02\" #these were set by the yaml file"
   ]
  },
  {
   "cell_type": "code",
   "execution_count": 3,
   "metadata": {
    "collapsed": true
   },
   "outputs": [],
   "source": [
    "data_reader = plotting_tools.NonequilibriumSwitchingAnalysis(trajectory_directory, trajectory_prefix)\n",
    "cum_work_shape = np.shape(data_reader.cumulative_work)\n",
    "n_steps_per_protocol = cum_work_shape[2]\n",
    "protocol_steps = np.linspace(0, 1, n_steps_per_protocol)\n",
    "n_protocols = cum_work_shape[1]"
   ]
  },
  {
   "cell_type": "markdown",
   "metadata": {},
   "source": [
    "## Now we can plot the forward and reverse work traces\n",
    "\n",
    "These are the cumulative work going from lambda=0 to lambda=1, and the reverse"
   ]
  },
  {
   "cell_type": "code",
   "execution_count": 10,
   "metadata": {
    "collapsed": true
   },
   "outputs": [],
   "source": [
    "#create a convenience function to add lines to a bokeh plot\n",
    "def plot_line(fig, x, y):\n",
    "    fig.line(x, y)\n",
    "\n",
    "def plot_work_values(protocol_steps, data_reader, n_protocols):\n",
    "    \"\"\"\n",
    "    Convenience function to plot work values from nonequilibrium switching calculations.\n",
    "    \n",
    "    Arguments\n",
    "    ---------\n",
    "    protocol_steps : [n_steps] array\n",
    "        Indexes the lambda value at each point in the corresponding work trajectory\n",
    "    data_reader : NonequilibriumSwitchingAnalysis object\n",
    "        object that contains the switching data\n",
    "    n_protocols : int\n",
    "        The total number of protocols in each direction (should be symmetric)\n",
    "    \"\"\"\n",
    "    x_axis_label = \"lambda value\"\n",
    "    y_axis_label = \"Work (kT)\"\n",
    "    \n",
    "    work_figure = figure(title=\"Nonequilibrium Switching Work\", x_axis_label=x_axis_label,\n",
    "                        y_axis_label=y_axis_label)\n",
    "    \n",
    "    for protocol_index in range(n_protocols):\n",
    "        work_figure.line(protocol_steps, data_reader.cumulative_work[0, protocol_index, :], line_color=\"green\")\n",
    "        work_figure.line(protocol_steps, data_reader.cumulative_work[1, protocol_index, :], line_color=\"red\")\n",
    "    \n",
    "    show(work_figure)"
   ]
  },
  {
   "cell_type": "code",
   "execution_count": 11,
   "metadata": {},
   "outputs": [
    {
     "data": {
      "text/html": [
       "\n",
       "<div class=\"bk-root\">\n",
       "    <div class=\"bk-plotdiv\" id=\"4a9fc2a9-6184-429e-8b25-b42b0cf9227a\"></div>\n",
       "</div>"
      ]
     },
     "metadata": {},
     "output_type": "display_data"
    },
    {
     "data": {
      "application/javascript": [
       "(function(root) {\n",
       "  function embed_document(root) {\n",
       "    var docs_json = {\"85e8ae09-1475-411c-b22d-0bd659649639\":{\"roots\":{\"references\":[{\"attributes\":{},\"id\":\"5cfb72f1-e912-4922-81b3-152cc5d769ac\",\"type\":\"WheelZoomTool\"},{\"attributes\":{},\"id\":\"6f4bad36-b268-4b79-ad91-6ad9ba7c3cbf\",\"type\":\"SaveTool\"},{\"attributes\":{\"callback\":null,\"column_names\":[\"y\",\"x\"],\"data\":{\"x\":{\"__ndarray__\":\"AAAAAAAAAAA5BS+n4OWUPzkFL6fg5aQ/1ofG+tBYrz85BS+n4OW0P4fG+tBYH7o/1ofG+tBYvz+SJEmSJEnCPzkFL6fg5cQ/4OUUvJyCxz+HxvrQWB/KPy6n4OUUvMw/1ofG+tBYzz8+NNaHxvrQP5IkSZIkSdI/5RS8nIKX0z85BS+n4OXUP431obE+NNY/4OUUvJyC1z801ofG+tDYP4fG+tBYH9o/27Zt27Zt2z8up+DlFLzcP4KXU/ByCt4/1ofG+tBY3z8VvJyCl1PgPz401ofG+uA/aKwPjfWh4T+SJEmSJEniP7ycgpdT8OI/5RS8nIKX4z8PjfWhsT7kPzkFL6fg5eQ/Y31orA+N5T+N9aGxPjTmP7Zt27Zt2+Y/4OUUvJyC5z8KXk7ByynoPzTWh8b60Og/XU7Byyl46T+HxvrQWB/qP7E+NNaHxuo/27Zt27Zt6z8FL6fg5RTsPy6n4OUUvOw/WB8a60Nj7T+Cl1PwcgruP6wPjfWhse4/1ofG+tBY7z8AAAAAAADwPw==\",\"dtype\":\"float64\",\"shape\":[50]},\"y\":{\"__ndarray__\":\"lNDY4qD/YUA4DQvn80B4QHKhkX0j6oNAJN92BLi7i0C2rFJ2fcKRQBxP4qD9upVAKcpSplvAmUA1Ad27ybqdQA7GhBwX1aBA36f/t9rGokDdhKWwqbukQGgFw+33saZA4tGkVjmoqECo9cA6PZ2qQH7H5K0ckKxAjOk0iDqArkBVW3mnjTawQOOL3GIrK7FAGmCxR7gfskAE2rEOahSzQD/Al9QQCLRAzBJjmaz6tEDDeJKrfu61QGrCFFy647ZAsGNKJYLat0AQITmGANO4QIsifc1kzblAVYTJd9XJukDfMAaadsi7QGBE5rBuybxAXUqc2vHMvUBoqHifOtO+QNzPtFmM3L9ApDCX1aZ0wEC1DDvZBf3AQG/hXwzJh8FAkmuWjX0VwkBvuXFc06bCQOU9eCSaPMNAY6pBp8fXw0CyIEIkennEQHPneK8+JMVAEp5sKfHZxUCNhd7w7pzGQKvEGa5scMdAwupTNPJYyEB0DgosKF3JQMTAwH9Eh8pAlaiNoiLky0CVqI2iIuTLQA==\",\"dtype\":\"float64\",\"shape\":[50]}}},\"id\":\"dd9a8ee2-148a-44d6-b299-d4660e3c5532\",\"type\":\"ColumnDataSource\"},{\"attributes\":{\"source\":{\"id\":\"50e90f95-0cee-44dd-99bd-322ef20ab43a\",\"type\":\"ColumnDataSource\"}},\"id\":\"eb01a144-7637-403b-beee-fb08b7f32b45\",\"type\":\"CDSView\"},{\"attributes\":{\"bottom_units\":\"screen\",\"fill_alpha\":{\"value\":0.5},\"fill_color\":{\"value\":\"lightgrey\"},\"left_units\":\"screen\",\"level\":\"overlay\",\"line_alpha\":{\"value\":1.0},\"line_color\":{\"value\":\"black\"},\"line_dash\":[4,4],\"line_width\":{\"value\":2},\"plot\":null,\"render_mode\":\"css\",\"right_units\":\"screen\",\"top_units\":\"screen\"},\"id\":\"a4c7ed23-f5b4-4c32-a952-1ea20e8b9c37\",\"type\":\"BoxAnnotation\"},{\"attributes\":{\"plot\":null,\"text\":\"Nonequilibrium Switching Work\"},\"id\":\"c32236f2-c343-4f30-a5a3-2b34a073a50a\",\"type\":\"Title\"},{\"attributes\":{\"plot\":{\"id\":\"880b9455-c059-46fb-9d24-32db3f0b0e59\",\"subtype\":\"Figure\",\"type\":\"Plot\"},\"ticker\":{\"id\":\"48501f9a-3f37-402b-b928-fe68eb45ccd8\",\"type\":\"BasicTicker\"}},\"id\":\"abd5c023-7670-4538-b866-a1bc243ae647\",\"type\":\"Grid\"},{\"attributes\":{\"line_alpha\":{\"value\":0.1},\"line_color\":{\"value\":\"#1f77b4\"},\"x\":{\"field\":\"x\"},\"y\":{\"field\":\"y\"}},\"id\":\"5f49fb57-8091-4eef-847b-fb135caaf663\",\"type\":\"Line\"},{\"attributes\":{\"axis_label\":\"Work (kT)\",\"formatter\":{\"id\":\"4241ae11-7554-4583-82d7-f19b6a0dc47f\",\"type\":\"BasicTickFormatter\"},\"plot\":{\"id\":\"880b9455-c059-46fb-9d24-32db3f0b0e59\",\"subtype\":\"Figure\",\"type\":\"Plot\"},\"ticker\":{\"id\":\"3f742598-62de-4db8-b634-44883ae06a03\",\"type\":\"BasicTicker\"}},\"id\":\"90834c43-c77c-4fdd-a9c0-4359e40f916e\",\"type\":\"LinearAxis\"},{\"attributes\":{},\"id\":\"3f742598-62de-4db8-b634-44883ae06a03\",\"type\":\"BasicTicker\"},{\"attributes\":{},\"id\":\"c84cea22-f5f8-4c2c-b2cf-620b1a2603e6\",\"type\":\"LinearScale\"},{\"attributes\":{\"axis_label\":\"lambda value\",\"formatter\":{\"id\":\"1d270d0b-908e-40e7-86d1-6380544fc1a8\",\"type\":\"BasicTickFormatter\"},\"plot\":{\"id\":\"880b9455-c059-46fb-9d24-32db3f0b0e59\",\"subtype\":\"Figure\",\"type\":\"Plot\"},\"ticker\":{\"id\":\"48501f9a-3f37-402b-b928-fe68eb45ccd8\",\"type\":\"BasicTicker\"}},\"id\":\"e09aa753-f410-46b8-9cfe-bac0a6155bb2\",\"type\":\"LinearAxis\"},{\"attributes\":{\"callback\":null},\"id\":\"b9106e6f-01f8-4d91-8c1a-155224716546\",\"type\":\"DataRange1d\"},{\"attributes\":{},\"id\":\"4241ae11-7554-4583-82d7-f19b6a0dc47f\",\"type\":\"BasicTickFormatter\"},{\"attributes\":{\"callback\":null,\"column_names\":[\"y\",\"x\"],\"data\":{\"x\":{\"__ndarray__\":\"AAAAAAAAAAA5BS+n4OWUPzkFL6fg5aQ/1ofG+tBYrz85BS+n4OW0P4fG+tBYH7o/1ofG+tBYvz+SJEmSJEnCPzkFL6fg5cQ/4OUUvJyCxz+HxvrQWB/KPy6n4OUUvMw/1ofG+tBYzz8+NNaHxvrQP5IkSZIkSdI/5RS8nIKX0z85BS+n4OXUP431obE+NNY/4OUUvJyC1z801ofG+tDYP4fG+tBYH9o/27Zt27Zt2z8up+DlFLzcP4KXU/ByCt4/1ofG+tBY3z8VvJyCl1PgPz401ofG+uA/aKwPjfWh4T+SJEmSJEniP7ycgpdT8OI/5RS8nIKX4z8PjfWhsT7kPzkFL6fg5eQ/Y31orA+N5T+N9aGxPjTmP7Zt27Zt2+Y/4OUUvJyC5z8KXk7ByynoPzTWh8b60Og/XU7Byyl46T+HxvrQWB/qP7E+NNaHxuo/27Zt27Zt6z8FL6fg5RTsPy6n4OUUvOw/WB8a60Nj7T+Cl1PwcgruP6wPjfWhse4/1ofG+tBY7z8AAAAAAADwPw==\",\"dtype\":\"float64\",\"shape\":[50]},\"y\":{\"__ndarray__\":\"7zaRgfKuh0CIcFYdfLSHQNkpTyg9q4dADA8F9Sa8h0ApIfrdvKqHQK/gBBubkYdAD2uPP/Sxh0DqVmuMosqHQKEq8vCh1IdAQ7OEUS3Sh0DSr+w9YciHQMP0+27SrodAf7oY3s2Fh0DZvq14M02HQBUNA4qFjYdACbN6qlnGh0C9YMcEkJSHQDWoccIzx4dAA5xXBc3yh0DkLdjRaQ6IQNfkEpix+odAns5nptTeh0CRlxKCyLOHQFFJ6IUr5YdAuTjhuY8NiEB0iU7Oj+yHQPsyuMBkw4dAeFImCZ6Lh0DIO5LezsmHQE0D/4Vn/4dAOtlm5ybSh0BBstfh9JyHQAsyOLBGWIdA0wG7PgMFh0BtkiyAxKOGQDpC1QPRNIZABDK1JsKqhkDV1iUZKRqHQGeISeqHe4dAfFBPs7HOh0CuMCfbBYOHQLOp3FWpMIdAgQljGUvQhkAYAxwrpWKGQMZAFEbx54VAaVrUwRVghUCTSe5jW+6FQCsXZeCiYIVAnCMMzmHuhUCQj1TamiaFQA==\",\"dtype\":\"float64\",\"shape\":[50]}}},\"id\":\"50e90f95-0cee-44dd-99bd-322ef20ab43a\",\"type\":\"ColumnDataSource\"},{\"attributes\":{\"line_alpha\":{\"value\":0.1},\"line_color\":{\"value\":\"#1f77b4\"},\"x\":{\"field\":\"x\"},\"y\":{\"field\":\"y\"}},\"id\":\"204f89af-d010-4dc4-8fe3-e960cbca225e\",\"type\":\"Line\"},{\"attributes\":{\"callback\":null},\"id\":\"447ed403-d5e2-4c38-b4d8-72c817372ff6\",\"type\":\"DataRange1d\"},{\"attributes\":{\"dimension\":1,\"plot\":{\"id\":\"880b9455-c059-46fb-9d24-32db3f0b0e59\",\"subtype\":\"Figure\",\"type\":\"Plot\"},\"ticker\":{\"id\":\"3f742598-62de-4db8-b634-44883ae06a03\",\"type\":\"BasicTicker\"}},\"id\":\"38b12924-ac70-4521-8661-ad20e22206b3\",\"type\":\"Grid\"},{\"attributes\":{},\"id\":\"fbaca97d-f6e9-4ebb-8121-af8d24d3c149\",\"type\":\"PanTool\"},{\"attributes\":{\"overlay\":{\"id\":\"a4c7ed23-f5b4-4c32-a952-1ea20e8b9c37\",\"type\":\"BoxAnnotation\"}},\"id\":\"2b2ec7a6-50ea-460c-81da-63054ca41b0f\",\"type\":\"BoxZoomTool\"},{\"attributes\":{\"source\":{\"id\":\"dd9a8ee2-148a-44d6-b299-d4660e3c5532\",\"type\":\"ColumnDataSource\"}},\"id\":\"8881242e-873f-4461-ba18-c23d801854d5\",\"type\":\"CDSView\"},{\"attributes\":{},\"id\":\"d9e916e5-bdc8-4b43-970e-d1d573a738e2\",\"type\":\"LinearScale\"},{\"attributes\":{\"line_color\":{\"value\":\"red\"},\"x\":{\"field\":\"x\"},\"y\":{\"field\":\"y\"}},\"id\":\"b1ccc6ac-d544-485d-815b-5863520edb73\",\"type\":\"Line\"},{\"attributes\":{},\"id\":\"48501f9a-3f37-402b-b928-fe68eb45ccd8\",\"type\":\"BasicTicker\"},{\"attributes\":{\"data_source\":{\"id\":\"50e90f95-0cee-44dd-99bd-322ef20ab43a\",\"type\":\"ColumnDataSource\"},\"glyph\":{\"id\":\"b1ccc6ac-d544-485d-815b-5863520edb73\",\"type\":\"Line\"},\"hover_glyph\":null,\"muted_glyph\":null,\"nonselection_glyph\":{\"id\":\"204f89af-d010-4dc4-8fe3-e960cbca225e\",\"type\":\"Line\"},\"selection_glyph\":null,\"view\":{\"id\":\"eb01a144-7637-403b-beee-fb08b7f32b45\",\"type\":\"CDSView\"}},\"id\":\"1240ec5a-6f33-4b17-be79-fd1efd1448ea\",\"type\":\"GlyphRenderer\"},{\"attributes\":{},\"id\":\"be241743-159a-45e1-808a-59625f316a7a\",\"type\":\"ResetTool\"},{\"attributes\":{\"data_source\":{\"id\":\"dd9a8ee2-148a-44d6-b299-d4660e3c5532\",\"type\":\"ColumnDataSource\"},\"glyph\":{\"id\":\"669ceebc-c519-4f99-9cb6-8f35353ddbdd\",\"type\":\"Line\"},\"hover_glyph\":null,\"muted_glyph\":null,\"nonselection_glyph\":{\"id\":\"5f49fb57-8091-4eef-847b-fb135caaf663\",\"type\":\"Line\"},\"selection_glyph\":null,\"view\":{\"id\":\"8881242e-873f-4461-ba18-c23d801854d5\",\"type\":\"CDSView\"}},\"id\":\"baba3b2a-c58c-46ed-8dee-cf45663468b3\",\"type\":\"GlyphRenderer\"},{\"attributes\":{},\"id\":\"1d270d0b-908e-40e7-86d1-6380544fc1a8\",\"type\":\"BasicTickFormatter\"},{\"attributes\":{\"active_drag\":\"auto\",\"active_inspect\":\"auto\",\"active_scroll\":\"auto\",\"active_tap\":\"auto\",\"tools\":[{\"id\":\"fbaca97d-f6e9-4ebb-8121-af8d24d3c149\",\"type\":\"PanTool\"},{\"id\":\"5cfb72f1-e912-4922-81b3-152cc5d769ac\",\"type\":\"WheelZoomTool\"},{\"id\":\"2b2ec7a6-50ea-460c-81da-63054ca41b0f\",\"type\":\"BoxZoomTool\"},{\"id\":\"6f4bad36-b268-4b79-ad91-6ad9ba7c3cbf\",\"type\":\"SaveTool\"},{\"id\":\"be241743-159a-45e1-808a-59625f316a7a\",\"type\":\"ResetTool\"},{\"id\":\"f97bc325-65f1-4935-bfad-dc2a9d36fbec\",\"type\":\"HelpTool\"}]},\"id\":\"3fcc24ed-7113-4e65-a5f9-72924852150f\",\"type\":\"Toolbar\"},{\"attributes\":{\"below\":[{\"id\":\"e09aa753-f410-46b8-9cfe-bac0a6155bb2\",\"type\":\"LinearAxis\"}],\"left\":[{\"id\":\"90834c43-c77c-4fdd-a9c0-4359e40f916e\",\"type\":\"LinearAxis\"}],\"renderers\":[{\"id\":\"e09aa753-f410-46b8-9cfe-bac0a6155bb2\",\"type\":\"LinearAxis\"},{\"id\":\"abd5c023-7670-4538-b866-a1bc243ae647\",\"type\":\"Grid\"},{\"id\":\"90834c43-c77c-4fdd-a9c0-4359e40f916e\",\"type\":\"LinearAxis\"},{\"id\":\"38b12924-ac70-4521-8661-ad20e22206b3\",\"type\":\"Grid\"},{\"id\":\"a4c7ed23-f5b4-4c32-a952-1ea20e8b9c37\",\"type\":\"BoxAnnotation\"},{\"id\":\"baba3b2a-c58c-46ed-8dee-cf45663468b3\",\"type\":\"GlyphRenderer\"},{\"id\":\"1240ec5a-6f33-4b17-be79-fd1efd1448ea\",\"type\":\"GlyphRenderer\"}],\"title\":{\"id\":\"c32236f2-c343-4f30-a5a3-2b34a073a50a\",\"type\":\"Title\"},\"toolbar\":{\"id\":\"3fcc24ed-7113-4e65-a5f9-72924852150f\",\"type\":\"Toolbar\"},\"x_range\":{\"id\":\"447ed403-d5e2-4c38-b4d8-72c817372ff6\",\"type\":\"DataRange1d\"},\"x_scale\":{\"id\":\"d9e916e5-bdc8-4b43-970e-d1d573a738e2\",\"type\":\"LinearScale\"},\"y_range\":{\"id\":\"b9106e6f-01f8-4d91-8c1a-155224716546\",\"type\":\"DataRange1d\"},\"y_scale\":{\"id\":\"c84cea22-f5f8-4c2c-b2cf-620b1a2603e6\",\"type\":\"LinearScale\"}},\"id\":\"880b9455-c059-46fb-9d24-32db3f0b0e59\",\"subtype\":\"Figure\",\"type\":\"Plot\"},{\"attributes\":{},\"id\":\"f97bc325-65f1-4935-bfad-dc2a9d36fbec\",\"type\":\"HelpTool\"},{\"attributes\":{\"line_color\":{\"value\":\"green\"},\"x\":{\"field\":\"x\"},\"y\":{\"field\":\"y\"}},\"id\":\"669ceebc-c519-4f99-9cb6-8f35353ddbdd\",\"type\":\"Line\"}],\"root_ids\":[\"880b9455-c059-46fb-9d24-32db3f0b0e59\"]},\"title\":\"Bokeh Application\",\"version\":\"0.12.10\"}};\n",
       "    var render_items = [{\"docid\":\"85e8ae09-1475-411c-b22d-0bd659649639\",\"elementid\":\"4a9fc2a9-6184-429e-8b25-b42b0cf9227a\",\"modelid\":\"880b9455-c059-46fb-9d24-32db3f0b0e59\"}];\n",
       "\n",
       "    root.Bokeh.embed.embed_items(docs_json, render_items);\n",
       "  }\n",
       "\n",
       "  if (root.Bokeh !== undefined) {\n",
       "    embed_document(root);\n",
       "  } else {\n",
       "    var attempts = 0;\n",
       "    var timer = setInterval(function(root) {\n",
       "      if (root.Bokeh !== undefined) {\n",
       "        embed_document(root);\n",
       "        clearInterval(timer);\n",
       "      }\n",
       "      attempts++;\n",
       "      if (attempts > 100) {\n",
       "        console.log(\"Bokeh: ERROR: Unable to embed document because BokehJS library is missing\")\n",
       "        clearInterval(timer);\n",
       "      }\n",
       "    }, 10, root)\n",
       "  }\n",
       "})(window);"
      ],
      "application/vnd.bokehjs_exec.v0+json": ""
     },
     "metadata": {
      "application/vnd.bokehjs_exec.v0+json": {
       "id": "880b9455-c059-46fb-9d24-32db3f0b0e59"
      }
     },
     "output_type": "display_data"
    }
   ],
   "source": [
    "plot_work_values(protocol_steps, data_reader, n_protocols)"
   ]
  },
  {
   "cell_type": "markdown",
   "metadata": {},
   "source": [
    "### What should I be looking for in the work traces?\n",
    "\n",
    "Is there a place in the trajectory where the work suddenly becomes anomalously high? This might indicate either a bad protocol or a bug in the code\n",
    "\n",
    "In general, these plots are giving an illustration of how fast the system is changing as lambda is changed. The faster that change is, the more unfavorable the variance of the ultimate free energy calculation"
   ]
  },
  {
   "cell_type": "markdown",
   "metadata": {},
   "source": [
    "## Let's take a closer look at the trajectories\n",
    "\n",
    "See something weird? Sometimes it helps to just visualize the trajectory of the atoms. We can do that fairly straightforwardly:"
   ]
  },
  {
   "cell_type": "code",
   "execution_count": 30,
   "metadata": {
    "collapsed": true
   },
   "outputs": [],
   "source": [
    "nonequilibrium_trajectory = data_reader.get_nonequilibrium_trajectory(\"forward\", 0)\n",
    "view = nglview.NGLWidget()\n",
    "view.add_trajectory(nonequilibrium_trajectory)\n",
    "view.add_ball_and_stick()"
   ]
  },
  {
   "cell_type": "code",
   "execution_count": 31,
   "metadata": {},
   "outputs": [
    {
     "data": {
      "application/vnd.jupyter.widget-view+json": {
       "model_id": "0107c19a07804d8fade4e3e6e19515fd"
      }
     },
     "metadata": {},
     "output_type": "display_data"
    }
   ],
   "source": [
    "view"
   ]
  },
  {
   "cell_type": "code",
   "execution_count": null,
   "metadata": {
    "collapsed": true
   },
   "outputs": [],
   "source": []
  }
 ],
 "metadata": {
  "kernelspec": {
   "display_name": "Python 3",
   "language": "python",
   "name": "python3"
  },
  "language_info": {
   "codemirror_mode": {
    "name": "ipython",
    "version": 3
   },
   "file_extension": ".py",
   "mimetype": "text/x-python",
   "name": "python",
   "nbconvert_exporter": "python",
   "pygments_lexer": "ipython3",
   "version": "3.5.2"
  }
 },
 "nbformat": 4,
 "nbformat_minor": 2
}
